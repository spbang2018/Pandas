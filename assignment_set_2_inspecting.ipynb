{
 "cells": [
  {
   "cell_type": "markdown",
   "id": "a86ef73d-5b21-49ad-bcd0-1e9df7b28f01",
   "metadata": {
    "id": "a86ef73d-5b21-49ad-bcd0-1e9df7b28f01"
   },
   "source": [
    "# Assignment Set 2 Solutions - Inspecting Dataframes and Must know operations"
   ]
  },
  {
   "cell_type": "code",
   "execution_count": 1,
   "id": "8decd9a3-473b-4a58-a97a-a02621a20525",
   "metadata": {
    "id": "8decd9a3-473b-4a58-a97a-a02621a20525"
   },
   "outputs": [],
   "source": [
    "import pandas as pd"
   ]
  },
  {
   "cell_type": "markdown",
   "id": "b2e18fd3-01fe-4a1f-937a-71ee6023f2d6",
   "metadata": {
    "id": "b2e18fd3-01fe-4a1f-937a-71ee6023f2d6",
    "tags": []
   },
   "source": [
    "### Q1. Get the number of rows, columns and datatype each column of the Cars93 dataset."
   ]
  },
  {
   "cell_type": "code",
   "execution_count": 7,
   "id": "a5ce5a0e-c104-422b-baca-929847867117",
   "metadata": {},
   "outputs": [],
   "source": [
    "# Input\n",
    "df = pd.read_csv('https://raw.githubusercontent.com/selva86/datasets/master/Cars93_miss.csv')"
   ]
  },
  {
   "cell_type": "markdown",
   "id": "6e493261-23aa-49c1-aca6-858825f1f80a",
   "metadata": {
    "id": "6e493261-23aa-49c1-aca6-858825f1f80a"
   },
   "source": [
    "### Q2. Replace the '.' in column names of cars93 dataset with '_'."
   ]
  },
  {
   "cell_type": "code",
   "execution_count": 5,
   "id": "530db975-612b-47e8-8e9e-b86dbb802f7e",
   "metadata": {
    "id": "530db975-612b-47e8-8e9e-b86dbb802f7e",
    "outputId": "f477e273-6dce-4bae-9310-5700de7f8554"
   },
   "outputs": [],
   "source": [
    "# Input\n",
    "df = pd.read_csv('https://raw.githubusercontent.com/selva86/datasets/master/Cars93_miss.csv')"
   ]
  },
  {
   "cell_type": "markdown",
   "id": "ea78278f-f379-4486-9ab4-17af70dacce4",
   "metadata": {
    "id": "b2e18fd3-01fe-4a1f-937a-71ee6023f2d6",
    "tags": []
   },
   "source": [
    "### Q3. Get the min, max, median, count, mean for each numerical column of the Cars93 dataset."
   ]
  },
  {
   "cell_type": "code",
   "execution_count": 11,
   "id": "b49e034c-55c5-45b6-9b05-c271ec1f0481",
   "metadata": {},
   "outputs": [],
   "source": [
    "# Input\n",
    "df = pd.read_csv('https://raw.githubusercontent.com/selva86/datasets/master/Cars93_miss.csv')"
   ]
  },
  {
   "cell_type": "markdown",
   "id": "39991bb4-e5e2-42ad-a9db-68b695f15ec1",
   "metadata": {
    "id": "b2e18fd3-01fe-4a1f-937a-71ee6023f2d6",
    "tags": []
   },
   "source": [
    "### Q4. Find out the number of cars under each Manufacturer of the Cars93 dataset. Arrange it in descending order"
   ]
  },
  {
   "cell_type": "code",
   "execution_count": 13,
   "id": "3f304982-a5ab-4655-ad29-36f108631080",
   "metadata": {},
   "outputs": [],
   "source": [
    "# Input\n",
    "df = pd.read_csv('https://raw.githubusercontent.com/selva86/datasets/master/Cars93_miss.csv')"
   ]
  },
  {
   "cell_type": "markdown",
   "id": "4ed3ba51-6083-41e1-b16a-ea59148d1714",
   "metadata": {
    "id": "b2e18fd3-01fe-4a1f-937a-71ee6023f2d6",
    "tags": []
   },
   "source": [
    "### Q5. Find out the 10 most expensive cars in the Cars93 dataset. Use Price column for it"
   ]
  },
  {
   "cell_type": "code",
   "execution_count": 16,
   "id": "36376eda-5c0e-435f-bf56-8adb0d654fd8",
   "metadata": {},
   "outputs": [],
   "source": [
    "# Input\n",
    "df = pd.read_csv('https://raw.githubusercontent.com/selva86/datasets/master/Cars93_miss.csv')"
   ]
  }
 ],
 "metadata": {
  "colab": {
   "collapsed_sections": [],
   "name": "assignment_set_1_solutions.ipynb",
   "provenance": []
  },
  "kernelspec": {
   "display_name": "Python 3",
   "language": "python",
   "name": "python3"
  },
  "language_info": {
   "codemirror_mode": {
    "name": "ipython",
    "version": 3
   },
   "file_extension": ".py",
   "mimetype": "text/x-python",
   "name": "python",
   "nbconvert_exporter": "python",
   "pygments_lexer": "ipython3",
   "version": "3.8.8"
  }
 },
 "nbformat": 4,
 "nbformat_minor": 5
}
